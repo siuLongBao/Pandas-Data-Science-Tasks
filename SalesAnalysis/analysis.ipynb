{
 "cells": [
  {
   "cell_type": "markdown",
   "id": "4c91f84f",
   "metadata": {},
   "source": [
    "Importing Necessary Libraries"
   ]
  },
  {
   "cell_type": "code",
   "execution_count": 1,
   "id": "2a18b1e0",
   "metadata": {},
   "outputs": [],
   "source": [
    "import numpy as np\n",
    "import pandas as pd\n",
    "import matplotlib.pyplot as plt\n",
    "from os import listdir\n",
    "from os.path import isfile, join"
   ]
  },
  {
   "cell_type": "markdown",
   "id": "683efda8",
   "metadata": {},
   "source": [
    "Task #1: Merging 12 months of sales data into a single file"
   ]
  },
  {
   "cell_type": "code",
   "execution_count": 2,
   "id": "3d5ecbe2",
   "metadata": {},
   "outputs": [
    {
     "data": {
      "text/plain": [
       "'\\njan2019SalesData = pd.read_csv(\"Sales_Data/Sales_January_2019.csv\")\\nfeb2019SalesData = pd.read_csv(\"Sales_Data/Sales_February_2019.csv\")\\nmar2019SalesData = pd.read_csv(\"Sales_Data/Sales_March_2019.csv\")\\napr2019SalesData = pd.read_csv(\"Sales_Data/Sales_April_2019.csv\")\\nmay2019SalesData = pd.read_csv(\"Sales_Data/Sales_May_2019.csv\")\\njun2019SalesData = pd.read_csv(\"Sales_Data/Sales_June_2019.csv\")\\njul2019SalesData = pd.read_csv(\"Sales_Data/Sales_July_2019.csv\")\\naug2019SalesData = pd.read_csv(\"Sales_Data/Sales_August_2019.csv\")\\nsep2019SalesData = pd.read_csv(\"Sales_Data/Sales_September_2019.csv\")\\noct2019SalesData = pd.read_csv(\"Sales_Data/Sales_October_2019.csv\")\\nnov2019SalesData = pd.read_csv(\"Sales_Data/Sales_November_2019.csv\")\\ndec2019SalesData = pd.read_csv(\"Sales_Data/Sales_December_2019.csv\")\\n'"
      ]
     },
     "execution_count": 2,
     "metadata": {},
     "output_type": "execute_result"
    }
   ],
   "source": [
    "# Loading all csvs into dataframes\n",
    "\"\"\"\n",
    "jan2019SalesData = pd.read_csv(\"Sales_Data/Sales_January_2019.csv\")\n",
    "feb2019SalesData = pd.read_csv(\"Sales_Data/Sales_February_2019.csv\")\n",
    "mar2019SalesData = pd.read_csv(\"Sales_Data/Sales_March_2019.csv\")\n",
    "apr2019SalesData = pd.read_csv(\"Sales_Data/Sales_April_2019.csv\")\n",
    "may2019SalesData = pd.read_csv(\"Sales_Data/Sales_May_2019.csv\")\n",
    "jun2019SalesData = pd.read_csv(\"Sales_Data/Sales_June_2019.csv\")\n",
    "jul2019SalesData = pd.read_csv(\"Sales_Data/Sales_July_2019.csv\")\n",
    "aug2019SalesData = pd.read_csv(\"Sales_Data/Sales_August_2019.csv\")\n",
    "sep2019SalesData = pd.read_csv(\"Sales_Data/Sales_September_2019.csv\")\n",
    "oct2019SalesData = pd.read_csv(\"Sales_Data/Sales_October_2019.csv\")\n",
    "nov2019SalesData = pd.read_csv(\"Sales_Data/Sales_November_2019.csv\")\n",
    "dec2019SalesData = pd.read_csv(\"Sales_Data/Sales_December_2019.csv\")\n",
    "\"\"\""
   ]
  },
  {
   "cell_type": "code",
   "execution_count": 3,
   "id": "96f6a3ec",
   "metadata": {},
   "outputs": [
    {
     "data": {
      "text/plain": [
       "'\\n# merging all 12 dataframes into a dataframe called all sales data\\nsalesData2019 = pd.concat([jan2019SalesData, feb2019SalesData, mar2019SalesData, apr2019SalesData, may2019SalesData, jun2019SalesData, jul2019SalesData, aug2019SalesData, sep2019SalesData, oct2019SalesData, nov2019SalesData, dec2019SalesData])\\n'"
      ]
     },
     "execution_count": 3,
     "metadata": {},
     "output_type": "execute_result"
    }
   ],
   "source": [
    "\"\"\"\n",
    "# merging all 12 dataframes into a dataframe called all sales data\n",
    "salesData2019 = pd.concat([jan2019SalesData, feb2019SalesData, mar2019SalesData, apr2019SalesData, may2019SalesData, jun2019SalesData, jul2019SalesData, aug2019SalesData, sep2019SalesData, oct2019SalesData, nov2019SalesData, dec2019SalesData])\n",
    "\"\"\""
   ]
  },
  {
   "cell_type": "code",
   "execution_count": 4,
   "id": "d390c543",
   "metadata": {},
   "outputs": [],
   "source": [
    "# Loading all csvs into dataframes in a smarter way\n",
    "files = [f for f in listdir(\"./Sales_Data\") if isfile(join(\"./Sales_Data\", f))]\n",
    "all_months_data = pd.DataFrame()\n",
    "\n",
    "for file in files:\n",
    "    all_months_data = pd.concat([all_months_data, pd.read_csv(\"./Sales_Data/\" + file)])\n",
    "\n",
    "all_months_data.to_csv(\"all_data.csv\", index = False)"
   ]
  },
  {
   "cell_type": "code",
   "execution_count": 5,
   "id": "769eb119",
   "metadata": {},
   "outputs": [
    {
     "name": "stdout",
     "output_type": "stream",
     "text": [
      "  Order ID                     Product Quantity Ordered Price Each  \\\n",
      "0   176558        USB-C Charging Cable                2      11.95   \n",
      "1      NaN                         NaN              NaN        NaN   \n",
      "2   176559  Bose SoundSport Headphones                1      99.99   \n",
      "3   176560                Google Phone                1        600   \n",
      "4   176560            Wired Headphones                1      11.99   \n",
      "\n",
      "       Order Date                      Purchase Address  \n",
      "0  04/19/19 08:46          917 1st St, Dallas, TX 75001  \n",
      "1             NaN                                   NaN  \n",
      "2  04/07/19 22:30     682 Chestnut St, Boston, MA 02215  \n",
      "3  04/12/19 14:38  669 Spruce St, Los Angeles, CA 90001  \n",
      "4  04/12/19 14:38  669 Spruce St, Los Angeles, CA 90001  \n"
     ]
    }
   ],
   "source": [
    "# Read in the all data\n",
    "all_data = pd.read_csv(\"all_data.csv\")\n",
    "print(all_data.head())"
   ]
  },
  {
   "cell_type": "markdown",
   "id": "e1ef01bc",
   "metadata": {},
   "source": [
    "### Question 1: What was the best month for sales? How much was earned that month?"
   ]
  },
  {
   "cell_type": "code",
   "execution_count": 6,
   "id": "91ab3cb2",
   "metadata": {},
   "outputs": [],
   "source": [
    "# Clean the data, remove all rows that contain at least one NaN\n",
    "nan_df = all_data[all_data.isna().any(axis = 1)]\n",
    "cleaned_data = all_data.drop(nan_df.index)"
   ]
  },
  {
   "cell_type": "code",
   "execution_count": 7,
   "id": "5c9210d6",
   "metadata": {},
   "outputs": [
    {
     "name": "stdout",
     "output_type": "stream",
     "text": [
      "['04' '05' 'Or' '08' '09' '12' '01' '02' '03' '07' '06' '11' '10']\n"
     ]
    }
   ],
   "source": [
    "# Step 1 Extract the month as new column, month\n",
    "cleaned_data[\"Month\"] = cleaned_data[\"Order Date\"].str[0: 2]\n",
    "print(cleaned_data[\"Month\"].unique())"
   ]
  },
  {
   "cell_type": "code",
   "execution_count": 8,
   "id": "e1e59179",
   "metadata": {},
   "outputs": [],
   "source": [
    "# Remove rows where row[\"Month\"] == 'Or'\n",
    "monthOrRows = cleaned_data[cleaned_data[\"Month\"] == 'Or']\n",
    "cleaned_data = cleaned_data.drop(monthOrRows.index)"
   ]
  },
  {
   "cell_type": "code",
   "execution_count": 9,
   "id": "c08df6a9",
   "metadata": {},
   "outputs": [
    {
     "data": {
      "text/html": [
       "<div>\n",
       "<style scoped>\n",
       "    .dataframe tbody tr th:only-of-type {\n",
       "        vertical-align: middle;\n",
       "    }\n",
       "\n",
       "    .dataframe tbody tr th {\n",
       "        vertical-align: top;\n",
       "    }\n",
       "\n",
       "    .dataframe thead th {\n",
       "        text-align: right;\n",
       "    }\n",
       "</style>\n",
       "<table border=\"1\" class=\"dataframe\">\n",
       "  <thead>\n",
       "    <tr style=\"text-align: right;\">\n",
       "      <th></th>\n",
       "      <th>Order ID</th>\n",
       "      <th>Product</th>\n",
       "      <th>Quantity Ordered</th>\n",
       "      <th>Price Each</th>\n",
       "      <th>Order Date</th>\n",
       "      <th>Purchase Address</th>\n",
       "      <th>Month</th>\n",
       "    </tr>\n",
       "  </thead>\n",
       "  <tbody>\n",
       "    <tr>\n",
       "      <th>0</th>\n",
       "      <td>176558</td>\n",
       "      <td>USB-C Charging Cable</td>\n",
       "      <td>2</td>\n",
       "      <td>11.95</td>\n",
       "      <td>04/19/19 08:46</td>\n",
       "      <td>917 1st St, Dallas, TX 75001</td>\n",
       "      <td>4</td>\n",
       "    </tr>\n",
       "    <tr>\n",
       "      <th>2</th>\n",
       "      <td>176559</td>\n",
       "      <td>Bose SoundSport Headphones</td>\n",
       "      <td>1</td>\n",
       "      <td>99.99</td>\n",
       "      <td>04/07/19 22:30</td>\n",
       "      <td>682 Chestnut St, Boston, MA 02215</td>\n",
       "      <td>4</td>\n",
       "    </tr>\n",
       "    <tr>\n",
       "      <th>3</th>\n",
       "      <td>176560</td>\n",
       "      <td>Google Phone</td>\n",
       "      <td>1</td>\n",
       "      <td>600</td>\n",
       "      <td>04/12/19 14:38</td>\n",
       "      <td>669 Spruce St, Los Angeles, CA 90001</td>\n",
       "      <td>4</td>\n",
       "    </tr>\n",
       "    <tr>\n",
       "      <th>4</th>\n",
       "      <td>176560</td>\n",
       "      <td>Wired Headphones</td>\n",
       "      <td>1</td>\n",
       "      <td>11.99</td>\n",
       "      <td>04/12/19 14:38</td>\n",
       "      <td>669 Spruce St, Los Angeles, CA 90001</td>\n",
       "      <td>4</td>\n",
       "    </tr>\n",
       "    <tr>\n",
       "      <th>5</th>\n",
       "      <td>176561</td>\n",
       "      <td>Wired Headphones</td>\n",
       "      <td>1</td>\n",
       "      <td>11.99</td>\n",
       "      <td>04/30/19 09:27</td>\n",
       "      <td>333 8th St, Los Angeles, CA 90001</td>\n",
       "      <td>4</td>\n",
       "    </tr>\n",
       "  </tbody>\n",
       "</table>\n",
       "</div>"
      ],
      "text/plain": [
       "  Order ID                     Product Quantity Ordered Price Each  \\\n",
       "0   176558        USB-C Charging Cable                2      11.95   \n",
       "2   176559  Bose SoundSport Headphones                1      99.99   \n",
       "3   176560                Google Phone                1        600   \n",
       "4   176560            Wired Headphones                1      11.99   \n",
       "5   176561            Wired Headphones                1      11.99   \n",
       "\n",
       "       Order Date                      Purchase Address  Month  \n",
       "0  04/19/19 08:46          917 1st St, Dallas, TX 75001      4  \n",
       "2  04/07/19 22:30     682 Chestnut St, Boston, MA 02215      4  \n",
       "3  04/12/19 14:38  669 Spruce St, Los Angeles, CA 90001      4  \n",
       "4  04/12/19 14:38  669 Spruce St, Los Angeles, CA 90001      4  \n",
       "5  04/30/19 09:27     333 8th St, Los Angeles, CA 90001      4  "
      ]
     },
     "execution_count": 9,
     "metadata": {},
     "output_type": "execute_result"
    }
   ],
   "source": [
    "# Converting Month column to int type\n",
    "cleaned_data[\"Month\"] = cleaned_data[\"Month\"].astype(\"int32\")\n",
    "cleaned_data.head()"
   ]
  },
  {
   "cell_type": "code",
   "execution_count": 10,
   "id": "b0f4c9ef",
   "metadata": {},
   "outputs": [
    {
     "data": {
      "text/html": [
       "<div>\n",
       "<style scoped>\n",
       "    .dataframe tbody tr th:only-of-type {\n",
       "        vertical-align: middle;\n",
       "    }\n",
       "\n",
       "    .dataframe tbody tr th {\n",
       "        vertical-align: top;\n",
       "    }\n",
       "\n",
       "    .dataframe thead th {\n",
       "        text-align: right;\n",
       "    }\n",
       "</style>\n",
       "<table border=\"1\" class=\"dataframe\">\n",
       "  <thead>\n",
       "    <tr style=\"text-align: right;\">\n",
       "      <th></th>\n",
       "      <th>Order ID</th>\n",
       "      <th>Product</th>\n",
       "      <th>Quantity Ordered</th>\n",
       "      <th>Price Each</th>\n",
       "      <th>Order Date</th>\n",
       "      <th>Purchase Address</th>\n",
       "      <th>Month</th>\n",
       "      <th>sales</th>\n",
       "    </tr>\n",
       "  </thead>\n",
       "  <tbody>\n",
       "    <tr>\n",
       "      <th>0</th>\n",
       "      <td>176558</td>\n",
       "      <td>USB-C Charging Cable</td>\n",
       "      <td>2</td>\n",
       "      <td>11.95</td>\n",
       "      <td>04/19/19 08:46</td>\n",
       "      <td>917 1st St, Dallas, TX 75001</td>\n",
       "      <td>4</td>\n",
       "      <td>23.90</td>\n",
       "    </tr>\n",
       "    <tr>\n",
       "      <th>2</th>\n",
       "      <td>176559</td>\n",
       "      <td>Bose SoundSport Headphones</td>\n",
       "      <td>1</td>\n",
       "      <td>99.99</td>\n",
       "      <td>04/07/19 22:30</td>\n",
       "      <td>682 Chestnut St, Boston, MA 02215</td>\n",
       "      <td>4</td>\n",
       "      <td>99.99</td>\n",
       "    </tr>\n",
       "    <tr>\n",
       "      <th>3</th>\n",
       "      <td>176560</td>\n",
       "      <td>Google Phone</td>\n",
       "      <td>1</td>\n",
       "      <td>600.00</td>\n",
       "      <td>04/12/19 14:38</td>\n",
       "      <td>669 Spruce St, Los Angeles, CA 90001</td>\n",
       "      <td>4</td>\n",
       "      <td>600.00</td>\n",
       "    </tr>\n",
       "    <tr>\n",
       "      <th>4</th>\n",
       "      <td>176560</td>\n",
       "      <td>Wired Headphones</td>\n",
       "      <td>1</td>\n",
       "      <td>11.99</td>\n",
       "      <td>04/12/19 14:38</td>\n",
       "      <td>669 Spruce St, Los Angeles, CA 90001</td>\n",
       "      <td>4</td>\n",
       "      <td>11.99</td>\n",
       "    </tr>\n",
       "    <tr>\n",
       "      <th>5</th>\n",
       "      <td>176561</td>\n",
       "      <td>Wired Headphones</td>\n",
       "      <td>1</td>\n",
       "      <td>11.99</td>\n",
       "      <td>04/30/19 09:27</td>\n",
       "      <td>333 8th St, Los Angeles, CA 90001</td>\n",
       "      <td>4</td>\n",
       "      <td>11.99</td>\n",
       "    </tr>\n",
       "  </tbody>\n",
       "</table>\n",
       "</div>"
      ],
      "text/plain": [
       "  Order ID                     Product  Quantity Ordered  Price Each  \\\n",
       "0   176558        USB-C Charging Cable                 2       11.95   \n",
       "2   176559  Bose SoundSport Headphones                 1       99.99   \n",
       "3   176560                Google Phone                 1      600.00   \n",
       "4   176560            Wired Headphones                 1       11.99   \n",
       "5   176561            Wired Headphones                 1       11.99   \n",
       "\n",
       "       Order Date                      Purchase Address  Month   sales  \n",
       "0  04/19/19 08:46          917 1st St, Dallas, TX 75001      4   23.90  \n",
       "2  04/07/19 22:30     682 Chestnut St, Boston, MA 02215      4   99.99  \n",
       "3  04/12/19 14:38  669 Spruce St, Los Angeles, CA 90001      4  600.00  \n",
       "4  04/12/19 14:38  669 Spruce St, Los Angeles, CA 90001      4   11.99  \n",
       "5  04/30/19 09:27     333 8th St, Los Angeles, CA 90001      4   11.99  "
      ]
     },
     "execution_count": 10,
     "metadata": {},
     "output_type": "execute_result"
    }
   ],
   "source": [
    "# Create a sales column which is calculated by multiplying 'Price Each' with 'Quantity Ordered'\n",
    "cleaned_data[\"Price Each\"] = cleaned_data[\"Price Each\"].astype('float')\n",
    "cleaned_data[\"Quantity Ordered\"] = cleaned_data[\"Quantity Ordered\"].astype('int32')\n",
    "cleaned_data[\"sales\"] = cleaned_data[\"Price Each\"] * cleaned_data[\"Quantity Ordered\"]\n",
    "cleaned_data.head()"
   ]
  },
  {
   "cell_type": "code",
   "execution_count": 11,
   "id": "6d9722bc",
   "metadata": {},
   "outputs": [
    {
     "name": "stdout",
     "output_type": "stream",
     "text": [
      "            sales\n",
      "Month            \n",
      "1      1822256.73\n",
      "2      2202022.42\n",
      "3      2807100.38\n",
      "4      3390670.24\n",
      "5      3152606.75\n",
      "6      2577802.26\n",
      "7      2647775.76\n",
      "8      2244467.88\n",
      "9      2097560.13\n",
      "10     3736726.88\n",
      "11     3199603.20\n",
      "12     4613443.34\n"
     ]
    }
   ],
   "source": [
    "# Step 2 Group the sales data by months and sum them up\n",
    "summarized_sales_by_month = cleaned_data.groupby('Month').sum()[['sales']]\n",
    "print(summarized_sales_by_month)"
   ]
  },
  {
   "cell_type": "code",
   "execution_count": 12,
   "id": "9b32c768",
   "metadata": {},
   "outputs": [
    {
     "data": {
      "image/png": "[encoded data removed]",
      "text/plain": [
       "<Figure size 640x480 with 1 Axes>"
      ]
     },
     "metadata": {},
     "output_type": "display_data"
    }
   ],
   "source": [
    "summarized_sales_by_month.plot(kind = \"line\")\n",
    "plt.ylabel(\"Sales ($)\")\n",
    "plt.xticks([1, 2, 3, 4, 5, 6, 7, 8, 9, 10, 11, 12], ['Jan', 'Feb', 'Mar', 'Apr', 'May', 'Jun', 'Jul', 'Aug', 'Sep', 'Oct', 'Nov', 'Dec'])\n",
    "plt.ylim(ymin = 0)\n",
    "plt.show()"
   ]
  },
  {
   "cell_type": "code",
   "execution_count": 13,
   "id": "d548c813",
   "metadata": {},
   "outputs": [
    {
     "name": "stdout",
     "output_type": "stream",
     "text": [
      "            sales\n",
      "Month            \n",
      "12     4613443.34\n",
      "10     3736726.88\n",
      "4      3390670.24\n",
      "11     3199603.20\n",
      "5      3152606.75\n",
      "3      2807100.38\n",
      "7      2647775.76\n",
      "6      2577802.26\n",
      "8      2244467.88\n",
      "2      2202022.42\n",
      "9      2097560.13\n",
      "1      1822256.73\n"
     ]
    }
   ],
   "source": [
    "# Step 3 Order the data by total sales, in descending order\n",
    "summarized_sales_by_month_ordered = summarized_sales_by_month.sort_values('sales', ascending = False)\n",
    "print(summarized_sales_by_month_ordered)"
   ]
  },
  {
   "cell_type": "code",
   "execution_count": 14,
   "id": "d7e6a637",
   "metadata": {},
   "outputs": [
    {
     "data": {
      "text/html": [
       "<div>\n",
       "<style scoped>\n",
       "    .dataframe tbody tr th:only-of-type {\n",
       "        vertical-align: middle;\n",
       "    }\n",
       "\n",
       "    .dataframe tbody tr th {\n",
       "        vertical-align: top;\n",
       "    }\n",
       "\n",
       "    .dataframe thead th {\n",
       "        text-align: right;\n",
       "    }\n",
       "</style>\n",
       "<table border=\"1\" class=\"dataframe\">\n",
       "  <thead>\n",
       "    <tr style=\"text-align: right;\">\n",
       "      <th></th>\n",
       "      <th>sales</th>\n",
       "      <th>prev month</th>\n",
       "    </tr>\n",
       "    <tr>\n",
       "      <th>Month</th>\n",
       "      <th></th>\n",
       "      <th></th>\n",
       "    </tr>\n",
       "  </thead>\n",
       "  <tbody>\n",
       "    <tr>\n",
       "      <th>1</th>\n",
       "      <td>1822256.73</td>\n",
       "      <td>0</td>\n",
       "    </tr>\n",
       "    <tr>\n",
       "      <th>2</th>\n",
       "      <td>2202022.42</td>\n",
       "      <td>1</td>\n",
       "    </tr>\n",
       "    <tr>\n",
       "      <th>3</th>\n",
       "      <td>2807100.38</td>\n",
       "      <td>2</td>\n",
       "    </tr>\n",
       "    <tr>\n",
       "      <th>4</th>\n",
       "      <td>3390670.24</td>\n",
       "      <td>3</td>\n",
       "    </tr>\n",
       "    <tr>\n",
       "      <th>5</th>\n",
       "      <td>3152606.75</td>\n",
       "      <td>4</td>\n",
       "    </tr>\n",
       "  </tbody>\n",
       "</table>\n",
       "</div>"
      ],
      "text/plain": [
       "            sales  prev month\n",
       "Month                        \n",
       "1      1822256.73           0\n",
       "2      2202022.42           1\n",
       "3      2807100.38           2\n",
       "4      3390670.24           3\n",
       "5      3152606.75           4"
      ]
     },
     "execution_count": 14,
     "metadata": {},
     "output_type": "execute_result"
    }
   ],
   "source": [
    "summarized_sales_by_month['prev month'] = summarized_sales_by_month.index - 1\n",
    "summarized_sales_by_month.head()"
   ]
  },
  {
   "cell_type": "code",
   "execution_count": 15,
   "id": "e13d2240",
   "metadata": {},
   "outputs": [
    {
     "name": "stdout",
     "output_type": "stream",
     "text": [
      "       sales_curMonth  sales_prevMonth  percentageChange\n",
      "Month                                                   \n",
      "1          1822256.73              NaN               NaN\n",
      "2          2202022.42       1822256.73             20.84\n",
      "3          2807100.38       2202022.42             27.48\n",
      "4          3390670.24       2807100.38             20.79\n",
      "5          3152606.75       3390670.24             -7.02\n",
      "6          2577802.26       3152606.75            -18.23\n",
      "7          2647775.76       2577802.26              2.71\n",
      "8          2244467.88       2647775.76            -15.23\n",
      "9          2097560.13       2244467.88             -6.55\n",
      "10         3736726.88       2097560.13             78.15\n",
      "11         3199603.20       3736726.88            -14.37\n",
      "12         4613443.34       3199603.20             44.19\n"
     ]
    }
   ],
   "source": [
    "calPercentageChange = summarized_sales_by_month.merge(summarized_sales_by_month, how = \"left\", left_on = 'prev month', right_index = True, suffixes = ('_curMonth', '_prevMonth'))\n",
    "calPercentageChange = calPercentageChange.loc[:, ['sales_curMonth', 'sales_prevMonth']]\n",
    "calPercentageChange['percentageChange'] = round(((calPercentageChange['sales_curMonth'] - calPercentageChange['sales_prevMonth'])/calPercentageChange['sales_prevMonth'])*100, 2)\n",
    "print(calPercentageChange)"
   ]
  },
  {
   "cell_type": "markdown",
   "id": "b7ec647a",
   "metadata": {},
   "source": [
    "### Question 2: What City Has the Highest Number of Sales"
   ]
  },
  {
   "cell_type": "code",
   "execution_count": 57,
   "id": "574c447e",
   "metadata": {},
   "outputs": [
    {
     "name": "stdout",
     "output_type": "stream",
     "text": [
      "  Order ID                     Product  Quantity Ordered  Price Each  \\\n",
      "0   176558        USB-C Charging Cable                 2       11.95   \n",
      "2   176559  Bose SoundSport Headphones                 1       99.99   \n",
      "3   176560                Google Phone                 1      600.00   \n",
      "4   176560            Wired Headphones                 1       11.99   \n",
      "5   176561            Wired Headphones                 1       11.99   \n",
      "\n",
      "       Order Date                      Purchase Address  Month   sales  \\\n",
      "0  04/19/19 08:46          917 1st St, Dallas, TX 75001      4   23.90   \n",
      "2  04/07/19 22:30     682 Chestnut St, Boston, MA 02215      4   99.99   \n",
      "3  04/12/19 14:38  669 Spruce St, Los Angeles, CA 90001      4  600.00   \n",
      "4  04/12/19 14:38  669 Spruce St, Los Angeles, CA 90001      4   11.99   \n",
      "5  04/30/19 09:27     333 8th St, Los Angeles, CA 90001      4   11.99   \n",
      "\n",
      "          city state  \n",
      "0       Dallas    TX  \n",
      "2       Boston    MA  \n",
      "3  Los Angeles    CA  \n",
      "4  Los Angeles    CA  \n",
      "5  Los Angeles    CA  \n"
     ]
    }
   ],
   "source": [
    "# Step 1: Create City and State Column\n",
    "cleaned_data[\"city\"] = cleaned_data[\"Purchase Address\"].str.split(\", \").str[-2]\n",
    "cleaned_data[\"state\"] = cleaned_data[\"Purchase Address\"].apply(lambda x: x.split(\", \")[-1].split(\" \")[0])\n",
    "print(cleaned_data.head())"
   ]
  },
  {
   "cell_type": "code",
   "execution_count": null,
   "id": "17dd690e",
   "metadata": {},
   "outputs": [],
   "source": [
    "# Video method of creating city and state column\n",
    "\"\"\"\n",
    "def get_city(address):\n",
    "    return address.split(\",\")[1]\n",
    "\n",
    "def get_state(address):\n",
    "    return address.split(\",\")[2].split(\" \")[1]\n",
    "\n",
    "cleaned_data[\"city\"] = cleaned_data[\"Purchase Address\"].apply(lambda x: f\"{get_city(x)} ({get_state(x)})\")\n",
    "\"\"\"\n",
    "# This code is a lot cleaner"
   ]
  },
  {
   "cell_type": "code",
   "execution_count": 58,
   "id": "d2a87c91",
   "metadata": {},
   "outputs": [
    {
     "name": "stdout",
     "output_type": "stream",
     "text": [
      "                          sales\n",
      "state city                     \n",
      "CA    Los Angeles    5452570.80\n",
      "      San Francisco  8262203.91\n",
      "GA    Atlanta        2795498.58\n",
      "MA    Boston         3661642.01\n",
      "ME    Portland        449758.27\n"
     ]
    }
   ],
   "source": [
    "# Step 2: Group data by city and sum sales\n",
    "sales_by_city = cleaned_data.groupby([\"state\", \"city\"]).sum(numeric_only = True)[[\"sales\"]]\n",
    "print(sales_by_city.head())"
   ]
  },
  {
   "cell_type": "code",
   "execution_count": 59,
   "id": "5cb7af50",
   "metadata": {},
   "outputs": [
    {
     "name": "stdout",
     "output_type": "stream",
     "text": [
      "                          sales\n",
      "state city                     \n",
      "CA    San Francisco  8262203.91\n",
      "      Los Angeles    5452570.80\n",
      "NY    New York City  4664317.43\n",
      "MA    Boston         3661642.01\n",
      "GA    Atlanta        2795498.58\n",
      "TX    Dallas         2767975.40\n",
      "WA    Seattle        2747755.48\n",
      "OR    Portland       1870732.34\n",
      "TX    Austin         1819581.75\n",
      "ME    Portland        449758.27\n"
     ]
    }
   ],
   "source": [
    "# Step 3: Sort data by sales in descending order\n",
    "sales_by_city_desc = sales_by_city.sort_values(\"sales\", ascending = False)\n",
    "print(sales_by_city_desc)"
   ]
  },
  {
   "cell_type": "code",
   "execution_count": 60,
   "id": "7cda5276",
   "metadata": {},
   "outputs": [],
   "source": [
    "sales_by_city_desc_index_list = list(sales_by_city_desc.index)"
   ]
  },
  {
   "cell_type": "code",
   "execution_count": 61,
   "id": "780c9633",
   "metadata": {},
   "outputs": [
    {
     "name": "stdout",
     "output_type": "stream",
     "text": [
      "['San Francisco CA', 'Los Angeles CA', 'New York City NY', 'Boston MA', 'Atlanta GA', 'Dallas TX', 'Seattle WA', 'Portland OR', 'Austin TX', 'Portland ME']\n"
     ]
    }
   ],
   "source": [
    "label_list = []\n",
    "for i in sales_by_city_desc_index_list:\n",
    "    label_list.append(i[1] + \" \" + i[0])\n",
    "print(label_list)"
   ]
  },
  {
   "cell_type": "code",
   "execution_count": 63,
   "id": "adcdefae",
   "metadata": {},
   "outputs": [
    {
     "data": {
      "image/png": "[encoded data removed]",
      "text/plain": [
       "<Figure size 640x480 with 1 Axes>"
      ]
     },
     "metadata": {},
     "output_type": "display_data"
    }
   ],
   "source": [
    "# Step 4: Plot the data in bar chart\n",
    "sales_by_city_desc.plot(kind = \"bar\", y = \"sales\", use_index = True)\n",
    "plt.xticks(range(0, len(label_list)), label_list ,rotation = 45, size = 8)\n",
    "plt.ylabel(\"Sales (USD $)\")\n",
    "plt.xlabel(\"State City\")\n",
    "plt.show()"
   ]
  },
  {
   "cell_type": "markdown",
   "id": "b48db121",
   "metadata": {},
   "source": [
    "### Question 3 What time should we display advertisments to maximize likelihood of customer's buying product?"
   ]
  },
  {
   "cell_type": "code",
   "execution_count": 64,
   "id": "9515fb9e",
   "metadata": {},
   "outputs": [
    {
     "data": {
      "text/html": [
       "<div>\n",
       "<style scoped>\n",
       "    .dataframe tbody tr th:only-of-type {\n",
       "        vertical-align: middle;\n",
       "    }\n",
       "\n",
       "    .dataframe tbody tr th {\n",
       "        vertical-align: top;\n",
       "    }\n",
       "\n",
       "    .dataframe thead th {\n",
       "        text-align: right;\n",
       "    }\n",
       "</style>\n",
       "<table border=\"1\" class=\"dataframe\">\n",
       "  <thead>\n",
       "    <tr style=\"text-align: right;\">\n",
       "      <th></th>\n",
       "      <th>Order ID</th>\n",
       "      <th>Product</th>\n",
       "      <th>Quantity Ordered</th>\n",
       "      <th>Price Each</th>\n",
       "      <th>Order Date</th>\n",
       "      <th>Purchase Address</th>\n",
       "      <th>Month</th>\n",
       "      <th>sales</th>\n",
       "      <th>city</th>\n",
       "      <th>state</th>\n",
       "    </tr>\n",
       "  </thead>\n",
       "  <tbody>\n",
       "    <tr>\n",
       "      <th>0</th>\n",
       "      <td>176558</td>\n",
       "      <td>USB-C Charging Cable</td>\n",
       "      <td>2</td>\n",
       "      <td>11.95</td>\n",
       "      <td>04/19/19 08:46</td>\n",
       "      <td>917 1st St, Dallas, TX 75001</td>\n",
       "      <td>4</td>\n",
       "      <td>23.90</td>\n",
       "      <td>Dallas</td>\n",
       "      <td>TX</td>\n",
       "    </tr>\n",
       "    <tr>\n",
       "      <th>2</th>\n",
       "      <td>176559</td>\n",
       "      <td>Bose SoundSport Headphones</td>\n",
       "      <td>1</td>\n",
       "      <td>99.99</td>\n",
       "      <td>04/07/19 22:30</td>\n",
       "      <td>682 Chestnut St, Boston, MA 02215</td>\n",
       "      <td>4</td>\n",
       "      <td>99.99</td>\n",
       "      <td>Boston</td>\n",
       "      <td>MA</td>\n",
       "    </tr>\n",
       "    <tr>\n",
       "      <th>3</th>\n",
       "      <td>176560</td>\n",
       "      <td>Google Phone</td>\n",
       "      <td>1</td>\n",
       "      <td>600.00</td>\n",
       "      <td>04/12/19 14:38</td>\n",
       "      <td>669 Spruce St, Los Angeles, CA 90001</td>\n",
       "      <td>4</td>\n",
       "      <td>600.00</td>\n",
       "      <td>Los Angeles</td>\n",
       "      <td>CA</td>\n",
       "    </tr>\n",
       "    <tr>\n",
       "      <th>4</th>\n",
       "      <td>176560</td>\n",
       "      <td>Wired Headphones</td>\n",
       "      <td>1</td>\n",
       "      <td>11.99</td>\n",
       "      <td>04/12/19 14:38</td>\n",
       "      <td>669 Spruce St, Los Angeles, CA 90001</td>\n",
       "      <td>4</td>\n",
       "      <td>11.99</td>\n",
       "      <td>Los Angeles</td>\n",
       "      <td>CA</td>\n",
       "    </tr>\n",
       "    <tr>\n",
       "      <th>5</th>\n",
       "      <td>176561</td>\n",
       "      <td>Wired Headphones</td>\n",
       "      <td>1</td>\n",
       "      <td>11.99</td>\n",
       "      <td>04/30/19 09:27</td>\n",
       "      <td>333 8th St, Los Angeles, CA 90001</td>\n",
       "      <td>4</td>\n",
       "      <td>11.99</td>\n",
       "      <td>Los Angeles</td>\n",
       "      <td>CA</td>\n",
       "    </tr>\n",
       "  </tbody>\n",
       "</table>\n",
       "</div>"
      ],
      "text/plain": [
       "  Order ID                     Product  Quantity Ordered  Price Each  \\\n",
       "0   176558        USB-C Charging Cable                 2       11.95   \n",
       "2   176559  Bose SoundSport Headphones                 1       99.99   \n",
       "3   176560                Google Phone                 1      600.00   \n",
       "4   176560            Wired Headphones                 1       11.99   \n",
       "5   176561            Wired Headphones                 1       11.99   \n",
       "\n",
       "       Order Date                      Purchase Address  Month   sales  \\\n",
       "0  04/19/19 08:46          917 1st St, Dallas, TX 75001      4   23.90   \n",
       "2  04/07/19 22:30     682 Chestnut St, Boston, MA 02215      4   99.99   \n",
       "3  04/12/19 14:38  669 Spruce St, Los Angeles, CA 90001      4  600.00   \n",
       "4  04/12/19 14:38  669 Spruce St, Los Angeles, CA 90001      4   11.99   \n",
       "5  04/30/19 09:27     333 8th St, Los Angeles, CA 90001      4   11.99   \n",
       "\n",
       "          city state  \n",
       "0       Dallas    TX  \n",
       "2       Boston    MA  \n",
       "3  Los Angeles    CA  \n",
       "4  Los Angeles    CA  \n",
       "5  Los Angeles    CA  "
      ]
     },
     "execution_count": 64,
     "metadata": {},
     "output_type": "execute_result"
    }
   ],
   "source": [
    "cleaned_data.head()"
   ]
  },
  {
   "cell_type": "code",
   "execution_count": 80,
   "id": "29891a1b",
   "metadata": {},
   "outputs": [
    {
     "data": {
      "text/html": [
       "<div>\n",
       "<style scoped>\n",
       "    .dataframe tbody tr th:only-of-type {\n",
       "        vertical-align: middle;\n",
       "    }\n",
       "\n",
       "    .dataframe tbody tr th {\n",
       "        vertical-align: top;\n",
       "    }\n",
       "\n",
       "    .dataframe thead th {\n",
       "        text-align: right;\n",
       "    }\n",
       "</style>\n",
       "<table border=\"1\" class=\"dataframe\">\n",
       "  <thead>\n",
       "    <tr style=\"text-align: right;\">\n",
       "      <th></th>\n",
       "      <th>Order ID</th>\n",
       "      <th>Product</th>\n",
       "      <th>Quantity Ordered</th>\n",
       "      <th>Price Each</th>\n",
       "      <th>Order Date</th>\n",
       "      <th>Purchase Address</th>\n",
       "      <th>Month</th>\n",
       "      <th>sales</th>\n",
       "      <th>city</th>\n",
       "      <th>state</th>\n",
       "      <th>time</th>\n",
       "      <th>time (hour)</th>\n",
       "    </tr>\n",
       "  </thead>\n",
       "  <tbody>\n",
       "    <tr>\n",
       "      <th>0</th>\n",
       "      <td>176558</td>\n",
       "      <td>USB-C Charging Cable</td>\n",
       "      <td>2</td>\n",
       "      <td>11.95</td>\n",
       "      <td>04/19/19 08:46</td>\n",
       "      <td>917 1st St, Dallas, TX 75001</td>\n",
       "      <td>4</td>\n",
       "      <td>23.90</td>\n",
       "      <td>Dallas</td>\n",
       "      <td>TX</td>\n",
       "      <td>08:46</td>\n",
       "      <td>8</td>\n",
       "    </tr>\n",
       "    <tr>\n",
       "      <th>2</th>\n",
       "      <td>176559</td>\n",
       "      <td>Bose SoundSport Headphones</td>\n",
       "      <td>1</td>\n",
       "      <td>99.99</td>\n",
       "      <td>04/07/19 22:30</td>\n",
       "      <td>682 Chestnut St, Boston, MA 02215</td>\n",
       "      <td>4</td>\n",
       "      <td>99.99</td>\n",
       "      <td>Boston</td>\n",
       "      <td>MA</td>\n",
       "      <td>22:30</td>\n",
       "      <td>22</td>\n",
       "    </tr>\n",
       "    <tr>\n",
       "      <th>3</th>\n",
       "      <td>176560</td>\n",
       "      <td>Google Phone</td>\n",
       "      <td>1</td>\n",
       "      <td>600.00</td>\n",
       "      <td>04/12/19 14:38</td>\n",
       "      <td>669 Spruce St, Los Angeles, CA 90001</td>\n",
       "      <td>4</td>\n",
       "      <td>600.00</td>\n",
       "      <td>Los Angeles</td>\n",
       "      <td>CA</td>\n",
       "      <td>14:38</td>\n",
       "      <td>14</td>\n",
       "    </tr>\n",
       "    <tr>\n",
       "      <th>4</th>\n",
       "      <td>176560</td>\n",
       "      <td>Wired Headphones</td>\n",
       "      <td>1</td>\n",
       "      <td>11.99</td>\n",
       "      <td>04/12/19 14:38</td>\n",
       "      <td>669 Spruce St, Los Angeles, CA 90001</td>\n",
       "      <td>4</td>\n",
       "      <td>11.99</td>\n",
       "      <td>Los Angeles</td>\n",
       "      <td>CA</td>\n",
       "      <td>14:38</td>\n",
       "      <td>14</td>\n",
       "    </tr>\n",
       "    <tr>\n",
       "      <th>5</th>\n",
       "      <td>176561</td>\n",
       "      <td>Wired Headphones</td>\n",
       "      <td>1</td>\n",
       "      <td>11.99</td>\n",
       "      <td>04/30/19 09:27</td>\n",
       "      <td>333 8th St, Los Angeles, CA 90001</td>\n",
       "      <td>4</td>\n",
       "      <td>11.99</td>\n",
       "      <td>Los Angeles</td>\n",
       "      <td>CA</td>\n",
       "      <td>09:27</td>\n",
       "      <td>9</td>\n",
       "    </tr>\n",
       "  </tbody>\n",
       "</table>\n",
       "</div>"
      ],
      "text/plain": [
       "  Order ID                     Product  Quantity Ordered  Price Each  \\\n",
       "0   176558        USB-C Charging Cable                 2       11.95   \n",
       "2   176559  Bose SoundSport Headphones                 1       99.99   \n",
       "3   176560                Google Phone                 1      600.00   \n",
       "4   176560            Wired Headphones                 1       11.99   \n",
       "5   176561            Wired Headphones                 1       11.99   \n",
       "\n",
       "       Order Date                      Purchase Address  Month   sales  \\\n",
       "0  04/19/19 08:46          917 1st St, Dallas, TX 75001      4   23.90   \n",
       "2  04/07/19 22:30     682 Chestnut St, Boston, MA 02215      4   99.99   \n",
       "3  04/12/19 14:38  669 Spruce St, Los Angeles, CA 90001      4  600.00   \n",
       "4  04/12/19 14:38  669 Spruce St, Los Angeles, CA 90001      4   11.99   \n",
       "5  04/30/19 09:27     333 8th St, Los Angeles, CA 90001      4   11.99   \n",
       "\n",
       "          city state   time  time (hour)  \n",
       "0       Dallas    TX  08:46            8  \n",
       "2       Boston    MA  22:30           22  \n",
       "3  Los Angeles    CA  14:38           14  \n",
       "4  Los Angeles    CA  14:38           14  \n",
       "5  Los Angeles    CA  09:27            9  "
      ]
     },
     "execution_count": 80,
     "metadata": {},
     "output_type": "execute_result"
    }
   ],
   "source": [
    "# Create the column which record the purchasing hour\n",
    "\n",
    "def getOrderTime(orderDate):\n",
    "    return orderDate.split(\" \")[-1].split(\":\")[0]\n",
    "\n",
    "cleaned_data[\"time (hour)\"] = cleaned_data[\"Order Date\"].apply(lambda x: getOrderTime(x)).astype('int')\n",
    "cleaned_data.head()"
   ]
  },
  {
   "cell_type": "code",
   "execution_count": null,
   "id": "978c39a2",
   "metadata": {},
   "outputs": [],
   "source": [
    "# Video way of converting order date into date time object and get hour\n",
    "\"\"\"\n",
    "cleaned_data[\"Order Date\"] = pd.to_datetime(cleaned_data[\"Order Date\"])\n",
    "cleaned_data[\"Hour\"] = cleaned_data[\"Order Date\"].dt.hour\n",
    "cleaned_data[\"Minute\"] = cleaned_data[\"Order Date\"].dt.minute\n",
    "\"\"\""
   ]
  },
  {
   "cell_type": "code",
   "execution_count": 81,
   "id": "532dc938",
   "metadata": {},
   "outputs": [
    {
     "name": "stdout",
     "output_type": "stream",
     "text": [
      "time (hour)\n",
      "0      3910\n",
      "1      2350\n",
      "2      1243\n",
      "3       831\n",
      "4       854\n",
      "5      1321\n",
      "6      2482\n",
      "7      4011\n",
      "8      6256\n",
      "9      8748\n",
      "10    10944\n",
      "11    12411\n",
      "12    12587\n",
      "13    12129\n",
      "14    10984\n",
      "15    10175\n",
      "16    10384\n",
      "17    10899\n",
      "18    12280\n",
      "19    12905\n",
      "20    12228\n",
      "21    10921\n",
      "22     8822\n",
      "23     6275\n",
      "dtype: int64\n"
     ]
    }
   ],
   "source": [
    "# Count the number of total sales made at different hours\n",
    "\n",
    "buy_freq_diffTime = cleaned_data.groupby(\"time (hour)\").size()\n",
    "print(buy_freq_diffTime)"
   ]
  },
  {
   "cell_type": "code",
   "execution_count": 83,
   "id": "2bdbecb6",
   "metadata": {},
   "outputs": [
    {
     "data": {
      "image/png": "[encoded data removed]",
      "text/plain": [
       "<Figure size 640x480 with 1 Axes>"
      ]
     },
     "metadata": {},
     "output_type": "display_data"
    }
   ],
   "source": [
    "# Plot the hour buying distribution\n",
    "plt.plot(buy_freq_diffTime.index, buy_freq_diffTime.values)\n",
    "plt.grid()\n",
    "plt.xticks(range(0, 24), list(buy_freq_diffTime.index))\n",
    "plt.xlabel(\"hour of the day\")\n",
    "plt.ylabel(\"number of purchases made during that hour\")\n",
    "plt.show()"
   ]
  },
  {
   "cell_type": "markdown",
   "id": "2a101a32",
   "metadata": {},
   "source": [
    "### Question 4: What products are most often sold together\n"
   ]
  },
  {
   "cell_type": "code",
   "execution_count": 87,
   "id": "71c33f30",
   "metadata": {},
   "outputs": [
    {
     "data": {
      "text/plain": [
       "(185950, 12)"
      ]
     },
     "execution_count": 87,
     "metadata": {},
     "output_type": "execute_result"
    }
   ],
   "source": [
    "cleaned_data.head()\n",
    "cleaned_data.shape"
   ]
  },
  {
   "cell_type": "code",
   "execution_count": 95,
   "id": "9bf54faa",
   "metadata": {},
   "outputs": [
    {
     "name": "stdout",
     "output_type": "stream",
     "text": [
      "(201770, 23)\n"
     ]
    }
   ],
   "source": [
    "buyTwoDiffItems = cleaned_data.merge(cleaned_data, how = 'inner', on = \"Order ID\", suffixes = ('_first', '_second'))\n",
    "print(buyTwoDiffItems.shape)"
   ]
  },
  {
   "cell_type": "code",
   "execution_count": 96,
   "id": "8fb6c94e",
   "metadata": {},
   "outputs": [
    {
     "data": {
      "text/html": [
       "<div>\n",
       "<style scoped>\n",
       "    .dataframe tbody tr th:only-of-type {\n",
       "        vertical-align: middle;\n",
       "    }\n",
       "\n",
       "    .dataframe tbody tr th {\n",
       "        vertical-align: top;\n",
       "    }\n",
       "\n",
       "    .dataframe thead th {\n",
       "        text-align: right;\n",
       "    }\n",
       "</style>\n",
       "<table border=\"1\" class=\"dataframe\">\n",
       "  <thead>\n",
       "    <tr style=\"text-align: right;\">\n",
       "      <th></th>\n",
       "      <th>Product_first</th>\n",
       "      <th>Product_second</th>\n",
       "    </tr>\n",
       "  </thead>\n",
       "  <tbody>\n",
       "    <tr>\n",
       "      <th>0</th>\n",
       "      <td>USB-C Charging Cable</td>\n",
       "      <td>USB-C Charging Cable</td>\n",
       "    </tr>\n",
       "    <tr>\n",
       "      <th>1</th>\n",
       "      <td>Bose SoundSport Headphones</td>\n",
       "      <td>Bose SoundSport Headphones</td>\n",
       "    </tr>\n",
       "    <tr>\n",
       "      <th>2</th>\n",
       "      <td>Google Phone</td>\n",
       "      <td>Google Phone</td>\n",
       "    </tr>\n",
       "    <tr>\n",
       "      <th>3</th>\n",
       "      <td>Google Phone</td>\n",
       "      <td>Wired Headphones</td>\n",
       "    </tr>\n",
       "    <tr>\n",
       "      <th>4</th>\n",
       "      <td>Wired Headphones</td>\n",
       "      <td>Google Phone</td>\n",
       "    </tr>\n",
       "  </tbody>\n",
       "</table>\n",
       "</div>"
      ],
      "text/plain": [
       "                Product_first              Product_second\n",
       "0        USB-C Charging Cable        USB-C Charging Cable\n",
       "1  Bose SoundSport Headphones  Bose SoundSport Headphones\n",
       "2                Google Phone                Google Phone\n",
       "3                Google Phone            Wired Headphones\n",
       "4            Wired Headphones                Google Phone"
      ]
     },
     "execution_count": 96,
     "metadata": {},
     "output_type": "execute_result"
    }
   ],
   "source": [
    "buyTwoDiffItems[[\"Product_first\", \"Product_second\"]].head()"
   ]
  },
  {
   "cell_type": "code",
   "execution_count": 99,
   "id": "b7c7911c",
   "metadata": {},
   "outputs": [
    {
     "name": "stdout",
     "output_type": "stream",
     "text": [
      "    Order ID         Product_first            Product_second\n",
      "4     176560      Wired Headphones              Google Phone\n",
      "21    176574  USB-C Charging Cable              Google Phone\n",
      "39    176586          Google Phone    AAA Batteries (4-pack)\n",
      "128   176672  USB-C Charging Cable  Lightning Charging Cable\n",
      "140   176681       ThinkPad Laptop  Apple Airpods Headphones\n"
     ]
    }
   ],
   "source": [
    "buyTwoDiffItems = buyTwoDiffItems[buyTwoDiffItems[\"Product_first\"] > buyTwoDiffItems[\"Product_second\"]][[\"Order ID\", \"Product_first\", \"Product_second\"]]\n",
    "buyTwoDiffItems.shape\n",
    "print(buyTwoDiffItems.head())"
   ]
  },
  {
   "cell_type": "code",
   "execution_count": 114,
   "id": "650375ab",
   "metadata": {},
   "outputs": [
    {
     "name": "stdout",
     "output_type": "stream",
     "text": [
      "<class 'pandas.core.series.Series'>\n",
      "Product_first               Product_second            \n",
      "iPhone                      Lightning Charging Cable      1015\n",
      "USB-C Charging Cable        Google Phone                   999\n",
      "iPhone                      Wired Headphones               462\n",
      "Wired Headphones            Google Phone                   423\n",
      "iPhone                      Apple Airpods Headphones       373\n",
      "Vareebadd Phone             USB-C Charging Cable           368\n",
      "Google Phone                Bose SoundSport Headphones     228\n",
      "Wired Headphones            USB-C Charging Cable           205\n",
      "                            Vareebadd Phone                149\n",
      "                            Lightning Charging Cable       129\n",
      "Lightning Charging Cable    Apple Airpods Headphones       116\n",
      "                            AA Batteries (4-pack)          106\n",
      "USB-C Charging Cable        Bose SoundSport Headphones     102\n",
      "Wired Headphones            Apple Airpods Headphones       100\n",
      "USB-C Charging Cable        Lightning Charging Cable       100\n",
      "                            AAA Batteries (4-pack)          95\n",
      "AAA Batteries (4-pack)      AA Batteries (4-pack)           87\n",
      "Wired Headphones            AAA Batteries (4-pack)          86\n",
      "                            AA Batteries (4-pack)           83\n",
      "Vareebadd Phone             Bose SoundSport Headphones      82\n",
      "Apple Airpods Headphones    AAA Batteries (4-pack)          81\n",
      "Lightning Charging Cable    AAA Batteries (4-pack)          80\n",
      "USB-C Charging Cable        AA Batteries (4-pack)           75\n",
      "Wired Headphones            Bose SoundSport Headphones      74\n",
      "Lightning Charging Cable    Bose SoundSport Headphones      72\n",
      "Apple Airpods Headphones    AA Batteries (4-pack)           70\n",
      "USB-C Charging Cable        Apple Airpods Headphones        63\n",
      "Bose SoundSport Headphones  AAA Batteries (4-pack)          57\n",
      "                            AA Batteries (4-pack)           55\n",
      "                            Apple Airpods Headphones        50\n",
      "Name: Product_second, dtype: int64\n"
     ]
    }
   ],
   "source": [
    "correlationSummary = buyTwoDiffItems.groupby(\"Product_first\")[\"Product_second\"].value_counts()\n",
    "print(type(correlationSummary))\n",
    "removed_less_popular_combinations = correlationSummary[correlationSummary >= 50]\n",
    "top_purchase_pairs = removed_less_popular_combinations.sort_values(ascending = False).head(100)\n",
    "print(top_purchase_pairs)"
   ]
  },
  {
   "cell_type": "code",
   "execution_count": null,
   "id": "b67aece0",
   "metadata": {},
   "outputs": [],
   "source": [
    "# Video Code\n",
    "\"\"\"\n",
    "df = cleaned_data[cleaned_data[\"Order ID\"].duplicated(keep = False)]\n",
    "df[\"Grouped\"] = df.groupby(\"Order ID\")[\"Product\"].transform(lambda x: \",\".join(x))\n",
    "df = df[[\"Order ID\", \"Grouped\"]].drop_duplicates()\n",
    "df.head(100)\n",
    "\"\"\""
   ]
  },
  {
   "cell_type": "code",
   "execution_count": null,
   "id": "8805c48e",
   "metadata": {},
   "outputs": [],
   "source": [
    "# Video Code\n",
    "\"\"\"\n",
    "from itertools import combinations\n",
    "from collections import Counter\n",
    "\n",
    "count = Counter()\n",
    "\n",
    "for row in df[\"Grouped\"]:\n",
    "    row_list = row.splie(',')\n",
    "    count.update(Counter(combinations(row_list, 2)))\n",
    "\n",
    "for key, value in count.most_common(10):\n",
    "    print(key, value)\n",
    "\n",
    "# Find most common three:\n",
    "count = Counter()\n",
    "\n",
    "for row in df[\"Grouped\"]:\n",
    "    row_list = row.splie(',')\n",
    "    count.update(Counter(combinations(row_list, 2)))\n",
    "\n",
    "for key, value in count.most_common(10):\n",
    "    print(key, value)\n",
    "\n",
    "\"\"\"\n"
   ]
  },
  {
   "cell_type": "code",
   "execution_count": 116,
   "id": "5a152c6e",
   "metadata": {},
   "outputs": [
    {
     "data": {
      "text/html": [
       "<div>\n",
       "<style scoped>\n",
       "    .dataframe tbody tr th:only-of-type {\n",
       "        vertical-align: middle;\n",
       "    }\n",
       "\n",
       "    .dataframe tbody tr th {\n",
       "        vertical-align: top;\n",
       "    }\n",
       "\n",
       "    .dataframe thead th {\n",
       "        text-align: right;\n",
       "    }\n",
       "</style>\n",
       "<table border=\"1\" class=\"dataframe\">\n",
       "  <thead>\n",
       "    <tr style=\"text-align: right;\">\n",
       "      <th></th>\n",
       "      <th>Order ID</th>\n",
       "      <th>Product_1</th>\n",
       "      <th>Product_2</th>\n",
       "      <th>Product</th>\n",
       "    </tr>\n",
       "  </thead>\n",
       "  <tbody>\n",
       "    <tr>\n",
       "      <th>99</th>\n",
       "      <td>176797</td>\n",
       "      <td>Wired Headphones</td>\n",
       "      <td>Google Phone</td>\n",
       "      <td>Bose SoundSport Headphones</td>\n",
       "    </tr>\n",
       "    <tr>\n",
       "      <th>200</th>\n",
       "      <td>177167</td>\n",
       "      <td>iPhone</td>\n",
       "      <td>Apple Airpods Headphones</td>\n",
       "      <td>AAA Batteries (4-pack)</td>\n",
       "    </tr>\n",
       "    <tr>\n",
       "      <th>321</th>\n",
       "      <td>177367</td>\n",
       "      <td>USB-C Charging Cable</td>\n",
       "      <td>Google Phone</td>\n",
       "      <td>Bose SoundSport Headphones</td>\n",
       "    </tr>\n",
       "    <tr>\n",
       "      <th>526</th>\n",
       "      <td>177800</td>\n",
       "      <td>Wired Headphones</td>\n",
       "      <td>USB-C Charging Cable</td>\n",
       "      <td>Google Phone</td>\n",
       "    </tr>\n",
       "    <tr>\n",
       "      <th>656</th>\n",
       "      <td>178158</td>\n",
       "      <td>Wired Headphones</td>\n",
       "      <td>USB-C Charging Cable</td>\n",
       "      <td>Google Phone</td>\n",
       "    </tr>\n",
       "  </tbody>\n",
       "</table>\n",
       "</div>"
      ],
      "text/plain": [
       "    Order ID             Product_1                 Product_2  \\\n",
       "99    176797      Wired Headphones              Google Phone   \n",
       "200   177167                iPhone  Apple Airpods Headphones   \n",
       "321   177367  USB-C Charging Cable              Google Phone   \n",
       "526   177800      Wired Headphones      USB-C Charging Cable   \n",
       "656   178158      Wired Headphones      USB-C Charging Cable   \n",
       "\n",
       "                        Product  \n",
       "99   Bose SoundSport Headphones  \n",
       "200      AAA Batteries (4-pack)  \n",
       "321  Bose SoundSport Headphones  \n",
       "526                Google Phone  \n",
       "656                Google Phone  "
      ]
     },
     "execution_count": 116,
     "metadata": {},
     "output_type": "execute_result"
    }
   ],
   "source": [
    "# Find most Common three using my way\n",
    "# Remove rows from clean data where only one item is purchased\n",
    "more_than_one_item_orders = cleaned_data[cleaned_data[\"Order ID\"].duplicated(keep = False)][[\"Order ID\", \"Product\"]]\n",
    "three_item_orders = more_than_one_item_orders.merge(more_than_one_item_orders, how = \"inner\", on = \"Order ID\", suffixes = (\"_1\", \"_2\")).merge(more_than_one_item_orders, how = \"inner\", on = \"Order ID\")\n",
    "three_item_orders = three_item_orders[(three_item_orders[\"Product_1\"]>three_item_orders[\"Product_2\"]) & (three_item_orders[\"Product_2\"] > three_item_orders[\"Product\"])]\n",
    "three_item_orders.head()\n",
    "\n"
   ]
  },
  {
   "cell_type": "code",
   "execution_count": 126,
   "id": "4935c4cb",
   "metadata": {},
   "outputs": [
    {
     "name": "stdout",
     "output_type": "stream",
     "text": [
      "Product_1                 Product_2                   Product                   \n",
      "Wired Headphones          USB-C Charging Cable        Google Phone                  89\n",
      "iPhone                    Wired Headphones            Lightning Charging Cable      63\n",
      "                          Lightning Charging Cable    Apple Airpods Headphones      47\n",
      "USB-C Charging Cable      Google Phone                Bose SoundSport Headphones    35\n",
      "Wired Headphones          Vareebadd Phone             USB-C Charging Cable          33\n",
      "iPhone                    Wired Headphones            Apple Airpods Headphones      27\n",
      "Wired Headphones          Google Phone                Bose SoundSport Headphones    24\n",
      "Vareebadd Phone           USB-C Charging Cable        Bose SoundSport Headphones    16\n",
      "Wired Headphones          Vareebadd Phone             Bose SoundSport Headphones     5\n",
      "                          USB-C Charging Cable        Bose SoundSport Headphones     5\n",
      "                          Lightning Charging Cable    Apple Airpods Headphones       4\n",
      "USB-C Charging Cable      Google Phone                AA Batteries (4-pack)          3\n",
      "iPhone                    Lightning Charging Cable    AA Batteries (4-pack)          3\n",
      "                          USB-C Charging Cable        Lightning Charging Cable       3\n",
      "                          Apple Airpods Headphones    AAA Batteries (4-pack)         3\n",
      "USB-C Charging Cable      Google Phone                AAA Batteries (4-pack)         3\n",
      "Wired Headphones          Google Phone                AA Batteries (4-pack)          2\n",
      "                                                      Apple Airpods Headphones       2\n",
      "iPhone                    Lightning Charging Cable    Google Phone                   2\n",
      "USB-C Charging Cable      Google Phone                Apple Airpods Headphones       2\n",
      "                                                      27in FHD Monitor               2\n",
      "iPhone                    Wired Headphones            Google Phone                   2\n",
      "                                                      USB-C Charging Cable           2\n",
      "                          USB-C Charging Cable        Google Phone                   1\n",
      "                          Vareebadd Phone             Lightning Charging Cable       1\n",
      "                          Lightning Charging Cable    Flatscreen TV                  1\n",
      "                          Vareebadd Phone             USB-C Charging Cable           1\n",
      "                          Lightning Charging Cable    AAA Batteries (4-pack)         1\n",
      "                          Wired Headphones            AA Batteries (4-pack)          1\n",
      "                          Lightning Charging Cable    34in Ultrawide Monitor         1\n",
      "                                                      27in 4K Gaming Monitor         1\n",
      "                          Google Phone                Apple Airpods Headphones       1\n",
      "                          Bose SoundSport Headphones  Apple Airpods Headphones       1\n",
      "Google Phone              Bose SoundSport Headphones  27in FHD Monitor               1\n",
      "Wired Headphones          USB-C Charging Cable        Apple Airpods Headphones       1\n",
      "                          Vareebadd Phone             Apple Airpods Headphones       1\n",
      "                                                      27in 4K Gaming Monitor         1\n",
      "Google Phone              Bose SoundSport Headphones  Apple Airpods Headphones       1\n",
      "Lightning Charging Cable  Google Phone                Apple Airpods Headphones       1\n",
      "                                                      Bose SoundSport Headphones     1\n",
      "USB-C Charging Cable      Bose SoundSport Headphones  34in Ultrawide Monitor         1\n",
      "                          Google Phone                34in Ultrawide Monitor         1\n",
      "                          Lightning Charging Cable    Google Phone                   1\n",
      "Vareebadd Phone           Flatscreen TV               Bose SoundSport Headphones     1\n",
      "                          USB-C Charging Cable        Apple Airpods Headphones       1\n",
      "                                                      Google Phone                   1\n",
      "Wired Headphones          Google Phone                27in FHD Monitor               1\n",
      "                          Lightning Charging Cable    AA Batteries (4-pack)          1\n",
      "                                                      Google Phone                   1\n",
      "                          Macbook Pro Laptop          Google Phone                   1\n",
      "                          USB-C Charging Cable        27in FHD Monitor               1\n",
      "                                                      AA Batteries (4-pack)          1\n",
      "Google Phone              Bose SoundSport Headphones  34in Ultrawide Monitor         1\n",
      "Wired Headphones          USB-C Charging Cable        Lightning Charging Cable       1\n",
      "iPhone                    Wired Headphones            Vareebadd Phone                1\n",
      "dtype: int64\n"
     ]
    }
   ],
   "source": [
    "three_item_orders_summary = three_item_orders.groupby([\"Product_1\", \"Product_2\", \"Product\"]).size()\n",
    "three_item_orders_summary = three_item_orders_summary.sort_values(ascending = False)\n",
    "print(three_item_orders_summary)"
   ]
  },
  {
   "cell_type": "markdown",
   "id": "34bf9792",
   "metadata": {},
   "source": [
    "### Final Question: What Products Sold the Most and Why?"
   ]
  },
  {
   "cell_type": "code",
   "execution_count": 130,
   "id": "11b661be",
   "metadata": {},
   "outputs": [
    {
     "name": "stdout",
     "output_type": "stream",
     "text": [
      "Product\n",
      "AAA Batteries (4-pack)        31017\n",
      "AA Batteries (4-pack)         27635\n",
      "USB-C Charging Cable          23975\n",
      "Lightning Charging Cable      23217\n",
      "Wired Headphones              20557\n",
      "Apple Airpods Headphones      15661\n",
      "Bose SoundSport Headphones    13457\n",
      "27in FHD Monitor               7550\n",
      "iPhone                         6849\n",
      "27in 4K Gaming Monitor         6244\n",
      "34in Ultrawide Monitor         6199\n",
      "Google Phone                   5532\n",
      "Flatscreen TV                  4819\n",
      "Macbook Pro Laptop             4728\n",
      "ThinkPad Laptop                4130\n",
      "Name: Quantity Ordered, dtype: int32\n"
     ]
    }
   ],
   "source": [
    "top_15_most_sold_product = cleaned_data.groupby('Product')['Quantity Ordered'].sum().sort_values(ascending = False).head(15)\n",
    "print(top_15_most_sold_product)"
   ]
  },
  {
   "cell_type": "code",
   "execution_count": 135,
   "id": "1c16ebab",
   "metadata": {},
   "outputs": [
    {
     "data": {
      "image/png": "[encoded data removed]",
      "text/plain": [
       "<Figure size 640x480 with 1 Axes>"
      ]
     },
     "metadata": {},
     "output_type": "display_data"
    }
   ],
   "source": [
    "# Plot out the top 15 most sold product in a bar chart\n",
    "plt.bar(top_15_most_sold_product.index, top_15_most_sold_product.values)\n",
    "plt.xticks(rotation = \"vertical\", size = 8)\n",
    "plt.xlabel(\"Product\")\n",
    "plt.ylabel(\"Total Quantity Sold\")\n",
    "plt.show()"
   ]
  },
  {
   "cell_type": "code",
   "execution_count": 141,
   "id": "21b45817",
   "metadata": {},
   "outputs": [
    {
     "name": "stdout",
     "output_type": "stream",
     "text": [
      "<class 'pandas.core.series.Series'>\n"
     ]
    }
   ],
   "source": [
    "num_products_sold = cleaned_data.groupby(\"Product\").sum()[\"Quantity Ordered\"]\n",
    "\n",
    "print(type(num_products_sold))"
   ]
  },
  {
   "cell_type": "code",
   "execution_count": 140,
   "id": "43874ded",
   "metadata": {},
   "outputs": [
    {
     "data": {
      "text/plain": [
       "<Figure size 640x480 with 0 Axes>"
      ]
     },
     "metadata": {},
     "output_type": "display_data"
    }
   ],
   "source": [
    "plt.clf()"
   ]
  },
  {
   "cell_type": "code",
   "execution_count": 142,
   "id": "f13d69bb",
   "metadata": {},
   "outputs": [
    {
     "name": "stdout",
     "output_type": "stream",
     "text": [
      "<class 'pandas.core.series.Series'>\n"
     ]
    }
   ],
   "source": [
    "prices = cleaned_data.groupby('Product').mean()[\"Price Each\"]\n",
    "\n",
    "print(type(prices))"
   ]
  },
  {
   "cell_type": "code",
   "execution_count": 173,
   "id": "6e936a77",
   "metadata": {},
   "outputs": [
    {
     "name": "stderr",
     "output_type": "stream",
     "text": [
      "C:\\Users\\user\\AppData\\Local\\Temp\\ipykernel_6512\\2934546532.py:12: UserWarning: FixedFormatter should only be used together with FixedLocator\n",
      "  ax.set_xticklabels(num_products_sold.index, rotation = 'vertical', size = 8)\n"
     ]
    },
    {
     "data": {
      "image/png": "[encoded data removed]",
      "text/plain": [
       "<Figure size 640x480 with 2 Axes>"
      ]
     },
     "metadata": {},
     "output_type": "display_data"
    }
   ],
   "source": [
    "fig, ax = plt.subplots()\n",
    "\n",
    "ax1 = ax.twinx()\n",
    "ax.bar(num_products_sold.index, num_products_sold, color = 'r', label = \"# sold\")\n",
    "ax1.plot(prices.index, prices, color = \"b\", label = 'price')\n",
    "\n",
    "#ax.set_xticks(ticks = num_products_sold.index, labels = nums_products_sold.index, rotation = 'vertical')\n",
    "ax.set_xlabel(\"product\")\n",
    "ax.set_ylabel(\"quantity sold\", color = 'r')\n",
    "ax1.set_ylabel(\"price\", color = 'b')\n",
    "\n",
    "ax.set_xticklabels(num_products_sold.index, rotation = 'vertical', size = 8)\n",
    "ax.legend()\n",
    "ax1.legend()\n",
    "\n",
    "plt.show()"
   ]
  },
  {
   "cell_type": "markdown",
   "id": "8ed24b8b",
   "metadata": {},
   "source": [
    "There could be several reasons why batteries have the highest quantity sold, one of which is that batteries are cheap and has a high variety of use. I made an assumption that higher prices often lead to lower sales which is probably not the only reason, since LG Dryer and LG washing machine have a lower quantity sold than macbook pro laptop and thinkpad laptops despite having a lower price than them."
   ]
  },
  {
   "cell_type": "markdown",
   "id": "2e92b8ac",
   "metadata": {},
   "source": [
    "### Is price and quantity sold correlated"
   ]
  },
  {
   "cell_type": "code",
   "execution_count": 181,
   "id": "d0fa7ce3",
   "metadata": {},
   "outputs": [
    {
     "name": "stdout",
     "output_type": "stream",
     "text": [
      "Price Each\n",
      "2.99       31017\n",
      "3.84       27635\n",
      "11.95      23975\n",
      "11.99      20557\n",
      "14.95      23217\n",
      "99.99      13457\n",
      "109.99      4129\n",
      "149.99      7550\n",
      "150.00     15661\n",
      "300.00      4819\n",
      "379.99      6199\n",
      "389.99      6244\n",
      "400.00      2068\n",
      "600.00      6844\n",
      "700.00      6849\n",
      "999.99      4130\n",
      "1700.00     4728\n",
      "Name: Quantity Ordered, dtype: int32\n"
     ]
    }
   ],
   "source": [
    "# Step one group the quantity sold by price\n",
    "quantity_vs_price = cleaned_data.groupby(\"Price Each\").sum()[\"Quantity Ordered\"]\n",
    "print(quantity_vs_price)"
   ]
  },
  {
   "cell_type": "code",
   "execution_count": 182,
   "id": "5523e923",
   "metadata": {},
   "outputs": [
    {
     "data": {
      "image/png": "[encoded data removed]",
      "text/plain": [
       "<Figure size 640x480 with 1 Axes>"
      ]
     },
     "metadata": {},
     "output_type": "display_data"
    }
   ],
   "source": [
    "fig, ax = plt.subplots()\n",
    "ax.scatter(quantity_vs_price.index, quantity_vs_price.values)\n",
    "ax.set_xlabel(\"price of product ($)\")\n",
    "ax.set_ylabel(\"Total quantity sold\")\n",
    "ax.set_title(\"Quantity Sold vs Price\")\n",
    "plt.show()"
   ]
  },
  {
   "cell_type": "markdown",
   "id": "88f9066a",
   "metadata": {},
   "source": [
    "From this graph, we can see that products with lower price often tends to have a higher quantity sold. However, even for products in the same price range can have a large difference in sales volume which is likely to be caused by the nature of the product, like headphones probably have a higher quantity sold than hair dryers, this should be further investigated. However, it is undeniable that in general, as price increases, sales volume decreases.\n",
    "\n",
    "Also, whether something is cheap or not is really subjective, an iphone costing 1000 could be cheap and a JBL earphone costing 500 would be consider expensive. Therefore, price could be one factor, but not the only one, it really depends on the competitor's pricing as well.\n",
    "\n",
    "However, this insight certainly helps the formation of pricing strategy."
   ]
  },
  {
   "cell_type": "code",
   "execution_count": null,
   "id": "8293d124",
   "metadata": {},
   "outputs": [],
   "source": []
  }
 ],
 "metadata": {
  "kernelspec": {
   "display_name": "Python 3 (ipykernel)",
   "language": "python",
   "name": "python3"
  },
  "language_info": {
   "codemirror_mode": {
    "name": "ipython",
    "version": 3
   },
   "file_extension": ".py",
   "mimetype": "text/x-python",
   "name": "python",
   "nbconvert_exporter": "python",
   "pygments_lexer": "ipython3",
   "version": "3.9.12"
  }
 },
 "nbformat": 4,
 "nbformat_minor": 5
}
